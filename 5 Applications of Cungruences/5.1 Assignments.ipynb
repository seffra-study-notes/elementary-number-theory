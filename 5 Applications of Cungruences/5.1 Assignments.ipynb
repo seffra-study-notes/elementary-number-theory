{
 "cells": [
  {
   "cell_type": "markdown",
   "metadata": {},
   "source": [
    "# 1.1 Tal och sekvenser"
   ]
  },
  {
   "cell_type": "markdown",
   "metadata": {},
   "source": [
    "## Heltal"
   ]
  },
  {
   "cell_type": "markdown",
   "metadata": {},
   "source": [
    "$\n",
    "\\mathbb{Z} = \\{\\dots, -3, -2, -1, 0, 1, 2, 3, \\dots\\}\n",
    "$"
   ]
  },
  {
   "cell_type": "markdown",
   "metadata": {},
   "source": [
    "## Välordningsprincipen"
   ]
  },
  {
   "cell_type": "markdown",
   "metadata": {},
   "source": [
    "Alla icke-tomma mängder av positiva heltal har ett minsta element. "
   ]
  },
  {
   "cell_type": "markdown",
   "metadata": {},
   "source": [
    "## Rationella tal"
   ]
  },
  {
   "cell_type": "markdown",
   "metadata": {},
   "source": [
    "$\n",
    "\\mathbb{Q} = \\{\\frac{a}{b} | a,b \\in \\Z, b \\neq 0\\}\n",
    "$"
   ]
  },
  {
   "cell_type": "markdown",
   "metadata": {},
   "source": [
    "### <ins>Definition</ins>:\n",
    "Det reella talet $r$, är <ins>rationellt</ins> om det finns heltal $p$ och $q$, då $q \\neq 0$, sådana att $r = \\frac{p}{q}$. Om $r$ inte är rationellt, så är det <ins>irrationellt</ins>. "
   ]
  },
  {
   "cell_type": "markdown",
   "metadata": {},
   "source": [
    "### <ins>Sats 1.1</ins>: $\\sqrt{2}$ är irrationellt\n",
    "Bevis: Antag att $\\sqrt{2}$ är rationellt. Då finns positiva heltal sådana att $\\sqrt{2}=\\frac{a}{b}$. Som konsekvens är mängden $S = \\{k\\sqrt{2} | k och k\\sqrt{2} är positiva heltal\\}$ en icke-tom mängd av positiva heltal. Därav, utifrån välordningsprincipen, så har $S$ ett minsta element, säg $s = t\\sqrt{2}$.\n",
    "\n",
    "Vi har $s\\sqrt{2}-s=s\\sqrt{2}-t\\sqrt{2}=(s-t)\\sqrt{2}$. Eftersom $s\\sqrt{2}=2t$ och $s$ båda är heltal så måste även $(s-t)\\sqrt{2}$ vara ett heltal. Dessutom är det positiv eftersom $s\\sqrt{s}-s=s(\\sqrt{2}-1)$ och $\\sqrt{2} > 1$. Det är mindre än $s$ eftersom $\\sqrt{2} < 2$ så att $\\sqrt{2}-1 < 1$. Detta motsäger valet av $s$ som minsta element i $S$. Alltså är $\\sqrt{2}$ irrationellt. "
   ]
  },
  {
   "cell_type": "markdown",
   "metadata": {},
   "source": [
    "### <ins>Definition</ins>:\n",
    "Ett tal $\\alpha$ är <ins>algebraiskt</ins> om det är roten till ett polynom med heltalskoefficienter; det vill säga, $\\alpha$ är algebraiskt om det finns heltal $a_0, a_1, \\dots, a_n$ sådana att $a_n\\alpha^n+a_{n-1}\\alpha^{n-1}+\\dots+a_0=0$. Talet $\\alpha$ är <ins>transcendentalt</ins> om det inte är algebraiskt. "
   ]
  },
  {
   "cell_type": "markdown",
   "metadata": {},
   "source": [
    "## Största heltals-funktionen"
   ]
  },
  {
   "cell_type": "markdown",
   "metadata": {},
   "source": [
    "### <ins>Definition</ins>:\n",
    "Det största heltalet i ett reellt tal $x$, benämnt $[x]$, är det största heltal mindre än eller lika med $x$. Det vill säga, $[x]$ är heltalet som satisfierar $[x]\\leq x < [x]+1$. "
   ]
  },
  {
   "cell_type": "markdown",
   "metadata": {},
   "source": [
    "### <ins>Definition</ins>:\n",
    "Decimaldelen av ett reellt tal $x$, benämnt $\\{x\\}$, är skillnaden mellan $x$ och $[x]$, det vill säga $\\{x\\} = x - [x]$. "
   ]
  },
  {
   "cell_type": "markdown",
   "metadata": {},
   "source": [
    "### <ins>Sats 1.2</ins>: Lådprincipen\n",
    "Om $k+1$ eller fler objekt läggs i $k$ lådor, så måste minst en låda ha två eller fler objekt. \n",
    "\n",
    "Bevis: Om ingen av de $k$ lådorna innehåller mer än ett objekt så är det totala antalet objekt som högst $k$. Denna motsägelse visar atte n låda innehåller minst två objekt. "
   ]
  },
  {
   "cell_type": "markdown",
   "metadata": {},
   "source": [
    "### <ins>Sats 1.3</ins>: Dirichlets approximationssats\n",
    "Om $\\alpha$ är ett reellt tal och $n$ ett positivt heltal så existerar heltal $a$ och $b$ do $a \\leq a \\leq n$ sådana att $|a\\alpha-b| < \\frac{1}{n}$. \n",
    "\n",
    "Bevis: Överväg talen $0$, $\\{\\alpha\\}$, $\\{2\\alpha\\}$, $\\dots$, $\\{n\\alpha\\}$.\n",
    "Dessa $n+1$ tal är decimaldelar av talen $j\\alpha$, $j=0$, $1$, $\\dots$, $n$. Varje av dessa $n+1$ tal ligger i ett av de $n$ disjunkta intervallen \n",
    "\n",
    "$0 \\leq x < \\frac{1}{n}$, $\\frac{1}{n} \\leq x < \\frac{2}{n}$, $\\dots$, $\\frac{j-1}{n} \\leq x < \\frac{j}{n}$, $\\dots$, $\\frac{n-1}{n} \\leq x < 1$. \n",
    "\n",
    "Eftersom det finns $n+1$ tal att överväga, men bara $n$ intervall så måste minst två tal ligga inom samma intervall, enligt lådprincipen. Eftersom varje intervall har längden $\\frac{1}{n}$ och exkluderar den högra ändpunkten, vet vi att avståndet mellan två tal i samma intervall är mindre än $\\frac{1}{n}$. Det följer att det finns heltal $j$ och $k$ med $0 \\leq j < k \\leq n$ sådana att $|\\{k\\alpha\\}-\\{j\\alpha\\}|<\\frac{1}{n}$. Vi ska nu visa att när $a=k-j$ så är produkten $a\\alpha$ inom $\\frac{1}{n}$ från ett heltal, nämligen $b=[k\\alpha]-[j\\alpha]$. \n",
    "\n",
    "För att se detta, notera att\n",
    "$$\n",
    "\\begin{align*}\n",
    "|a\\alpha-b| &= |(k-j)\\alpha - ([k\\alpha]-[j\\alpha])|\\\\\n",
    "            &= |(k\\alpha-[k\\alpha])-(j\\alpha-[j\\alpha])|\\\\\n",
    "            &= |{k\\alpha}-{j\\alpha}|<\\frac{1}{n}.\n",
    "\\end{align*}\n",
    "$$\n",
    "\n",
    "Notera att eftersom $0 \\leq j < k \\leq n$ har vi $1 \\leq a = k-j \\leq n$. Följaktligen har vi hittat heltal $a$ och $b$ med $1 \\leq a \\leq n$ och $|a\\alpha-b| < \\frac{1}{n}$, som efterfrågat. "
   ]
  },
  {
   "cell_type": "markdown",
   "metadata": {},
   "source": [
    "## Sekvenser"
   ]
  },
  {
   "cell_type": "markdown",
   "metadata": {},
   "source": [
    "### <ins>Definition</ins>:\n",
    "En <ins>geometrisk talföljd</ins> är en sekvens på formen $a$, $ar$, $ar^2$, $ar^3$, $\\dots$, $ar^k$, $\\dots$, där $a$, är begynnelsevärdet, och $r$, den genemsamma kvoten, är reella tal. "
   ]
  },
  {
   "cell_type": "markdown",
   "metadata": {},
   "source": [
    "### <ins>Definition</ins>:\n",
    "En mängd är <ins>uppräknelig</ins> om den är ändlig, alternativt oändlig och att den har en ett-till-ett-korrespondens med de positiva heltalen. En mängd som inte är uppräknelig kallas <ins>ouppräknelig</ins>. "
   ]
  },
  {
   "cell_type": "markdown",
   "metadata": {},
   "source": [
    "### <ins>Sats 1.4</ins>: De rationella taler är uppräkneliga\n",
    "Bevis: Vi kan lista de rationella talen som en sekvens enligt följande. Först arrangerar vi alla rationella tal i en tvådimensionell matris, enligt figuren nedan. Vi lägger alla bråk med nämnare ett i första raden. Vi arrangerar dessa genom att placera bråket med en given täljare i den position täljaren tar upp i uppräknandet av alla heltal. \n",
    "\n",
    "Härnäst listar vi upp bråken på successiva diagonaler, följande ordningen i figuren nedan. Tillslut tar vi bort bråk som representerar tal vi redan tagit med, till exempel $\\frac{2}{2}$ då vi redan har $\\frac{1}{1}$. \n",
    "\n",
    "[Här ska figur infogas]\n",
    "\n",
    "Begynnelsetermerna i sekvensen är $\\frac{0}{1}=0$, $\\frac{1}{1}=1$, $-\\frac{1}{1}=-1$, $\\frac{1}{2}$, $\\frac{1}{3}$, $-\\frac{1}{2}$, $\\frac{2}{1}=2$, $-\\frac{2}{1}=-2$, $-\\frac{1}{3}$, $\\frac{1}{4}$ och så vidare. Restern får läsaren bedöma att detta täcker alla rationella tal. "
   ]
  }
 ],
 "metadata": {
  "language_info": {
   "name": "python"
  },
  "orig_nbformat": 4
 },
 "nbformat": 4,
 "nbformat_minor": 2
}
