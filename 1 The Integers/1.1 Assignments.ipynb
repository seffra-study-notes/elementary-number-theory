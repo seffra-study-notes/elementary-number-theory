{
 "cells": [
  {
   "cell_type": "markdown",
   "metadata": {},
   "source": [
    "# Fråga 1"
   ]
  },
  {
   "cell_type": "markdown",
   "metadata": {},
   "source": [
    "Determine whether each of the following sets is well ordered. Either give a proof using the well-ordering property of the set of positive integers, or give an example of a subset of the set that has no smallest element.\n",
    "- (a) the set of integers greater than 3\n",
    "- (b) the set of even positive integers\n",
    "- (c) the set of positive rational numbers\n",
    "- (d) the set of positive rational numbers that can be written in the form $\\frac{a}{2}$, where $a$ is a positive integer\n",
    "- (e) the set of nonnegative rational numbers"
   ]
  },
  {
   "cell_type": "markdown",
   "metadata": {},
   "source": [
    "## Svar"
   ]
  },
  {
   "cell_type": "markdown",
   "metadata": {},
   "source": [
    "(a) Ja, 4\n",
    "\n",
    "Bevis: Eftersom det är heltal så följer välordningsprincipen, dock först efter 3"
   ]
  },
  {
   "cell_type": "markdown",
   "metadata": {},
   "source": [
    "(b) Ja, 0 (alternativt 2)\n",
    "\n",
    "Bevis: Eftersom detta är mängden $\\{2n | n \\in \\mathbb{Z}^+\\}$ så följer välordningsprincipen"
   ]
  },
  {
   "cell_type": "markdown",
   "metadata": {},
   "source": [
    "(c) Nej\n",
    "\n",
    "Bevis: Delmängden $\\{\\frac{1}{n} | n \\in \\mathbb{Z}^+\\}$ har inget minsta tal då $\\frac{1}{n}$ blir mindre desto större $n$ blir"
   ]
  },
  {
   "cell_type": "markdown",
   "metadata": {},
   "source": [
    "(d) Ja, $\\frac{0}{2}$ (alternativt $\\frac{1}{2}$)\n",
    "\n",
    "Bevis: Eftersom detta är mängden $\\{\\frac{n}{2} | n \\in \\mathbb{Z}^+\\}$ så följer välordningsprincipen"
   ]
  },
  {
   "cell_type": "markdown",
   "metadata": {},
   "source": [
    "(e) Nej\n",
    "\n",
    "Bevis: Samma som i deluppgift (c)"
   ]
  },
  {
   "cell_type": "markdown",
   "metadata": {},
   "source": [
    "# Fråga 2"
   ]
  },
  {
   "cell_type": "markdown",
   "metadata": {},
   "source": [
    "Show that if $a$ and $b$ are positive integers, then there is a smallest positive integer of the form $a - bk$, $k \\in \\mathbb{Z}$. "
   ]
  },
  {
   "cell_type": "markdown",
   "metadata": {},
   "source": [
    "## Svar"
   ]
  },
  {
   "cell_type": "markdown",
   "metadata": {},
   "source": [
    "Låt $k = [x]$. \n",
    "\n",
    "Då är $x = \\frac{a}{b}$ när $a-bx=0$. \n",
    "\n",
    "Eftersom $k=[x]=[\\frac{a}{b}]$ så är $0 = a-bx \\leq a-bk$ vilket gör $a-bk$ till det minsta positiva heltalet. "
   ]
  },
  {
   "cell_type": "markdown",
   "metadata": {},
   "source": [
    "# Fråga 3"
   ]
  },
  {
   "cell_type": "markdown",
   "metadata": {},
   "source": [
    "Prove that both the sum and the product of two rational numbers are rational."
   ]
  },
  {
   "cell_type": "markdown",
   "metadata": {},
   "source": [
    "## Svar"
   ]
  },
  {
   "cell_type": "markdown",
   "metadata": {},
   "source": [
    "Summan: Antag, utan inskränkning*, talen $\\frac{p}{r}+\\frac{q}{r}=\\frac{1}{r}(p+q)=\\frac{p+q}{r}$.\n",
    "\n",
    "Då $p, q, r \\in \\mathbb{Z}$ så gäller $p+q \\in \\mathbb{Z}$ och då $\\frac{p+q}{r} \\in \\mathbb{Q}$\n",
    "\n",
    "\\* Antag talen $a,b,c,d \\in \\mathbb{Z}$ sådana att $\\frac{a}{b}+\\frac{c}{d}=\\frac{ad}{bd}+\\frac{bc}{bd}$ och $b \\neq 0, d \\neq 0$. Låt sedan $p=ad, q=bc$ och $r=bd$ så gäller ovan. "
   ]
  },
  {
   "cell_type": "markdown",
   "metadata": {},
   "source": [
    "Produkten: Låt $a,b,c,d \\in \\mathbb{Z}$ och $b \\neq 0, d \\neq 0$\n",
    "\n",
    "$\\frac{a}{b} \\cdot \\frac{c}{d}=\\frac{ac}{bd}$\n",
    "\n",
    "Eftersom $ac,bd \\in \\mathbb{Z}$ så tillhör $\\frac{ac}{bd}$ de rationella talen. "
   ]
  },
  {
   "cell_type": "markdown",
   "metadata": {},
   "source": []
  }
 ],
 "metadata": {
  "language_info": {
   "name": "python"
  },
  "orig_nbformat": 4
 },
 "nbformat": 4,
 "nbformat_minor": 2
}
