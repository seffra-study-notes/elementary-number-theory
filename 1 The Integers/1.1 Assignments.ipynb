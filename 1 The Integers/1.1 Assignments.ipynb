{
 "cells": [
  {
   "cell_type": "markdown",
   "metadata": {},
   "source": [
    "# Question 1\n",
    "Determine whether each of the following sets is well ordered. Either give a proof using the well-ordering property of the set of positive integers, or give an example of a subset of the set that has no smallest element.\n",
    "- (a) the set of integers greater than 3\n",
    "- (b) the set of even positive integers\n",
    "- (c) the set of positive rational numbers\n",
    "- (d) the set of positive rational numbers that can be written in the form $\\frac{a}{2}$, where $a$ is a positive integer\n",
    "- (e) the set of nonnegative rational numbers"
   ]
  },
  {
   "cell_type": "markdown",
   "metadata": {},
   "source": [
    "## Answer\n",
    "(a) Ja, 4\n",
    "    Bevis: Eftersom det är heltal så följer välordningsprincipen, dock först efter 3\n",
    "(b) Ja, 0 (alternativt 2)\n",
    "    Bevis: Eftersom detta är mängden $\\{2n | n \\in \\mathbb{Z}^+\\}$ så följer välordningsprincipen\n",
    "(c) Nej\n",
    "    Bevis: Delmängden $\\{\\frac{1}{n} | n \\in \\mathbb{Z}^+\\}$ har inget minsta tal då $\\frac{1}{n}$ blir mindre desto större $n$ blir\n",
    "(d) Ja, $\\frac{0}{2}$ (alternativt $\\frac{1}{2}$)\n",
    "    Bevis: Eftersom detta är mängden $\\{\\frac{n}{2} | n \\in \\mathbb{Z}^+\\}$ så följer välordningsprincipen\n",
    "(e) Nej\n",
    "    Bevis: Samma som i deluppgift (c)"
   ]
  },
  {
   "cell_type": "markdown",
   "metadata": {},
   "source": []
  }
 ],
 "metadata": {
  "language_info": {
   "name": "python"
  },
  "orig_nbformat": 4
 },
 "nbformat": 4,
 "nbformat_minor": 2
}
